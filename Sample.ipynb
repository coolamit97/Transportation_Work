{
 "cells": [
  {
   "cell_type": "code",
   "execution_count": 14,
   "id": "d2c04c95",
   "metadata": {},
   "outputs": [],
   "source": [
    "Out_path = r\"Out\"\n",
    "Excel_path = r\"C:\\Users\\rimit\\Amitabha\\Excel.xlsx\""
   ]
  },
  {
   "cell_type": "code",
   "execution_count": 15,
   "id": "d9eb80dc-0e8f-40fb-a38b-99d4afc22a23",
   "metadata": {},
   "outputs": [
    {
     "name": "stdout",
     "output_type": "stream",
     "text": [
      "Requirement already satisfied: xlwings in c:\\users\\rimit\\anaconda3\\lib\\site-packages (0.32.1)\n",
      "Requirement already satisfied: pywin32>=224 in c:\\users\\rimit\\appdata\\roaming\\python\\python313\\site-packages (from xlwings) (311)\n",
      "Note: you may need to restart the kernel to use updated packages.\n"
     ]
    }
   ],
   "source": [
    "pip install xlwings"
   ]
  },
  {
   "cell_type": "code",
   "execution_count": 16,
   "id": "7e82bcac-5cc3-4271-abca-47449454ef73",
   "metadata": {},
   "outputs": [
    {
     "name": "stdout",
     "output_type": "stream",
     "text": [
      "Requirement already satisfied: pywin32 in c:\\users\\rimit\\appdata\\roaming\\python\\python313\\site-packages (311)\n",
      "Note: you may need to restart the kernel to use updated packages.\n"
     ]
    }
   ],
   "source": [
    "pip install pywin32"
   ]
  },
  {
   "cell_type": "code",
   "execution_count": 17,
   "id": "ed1be345-423a-400b-8991-71bb6f404df4",
   "metadata": {},
   "outputs": [
    {
     "name": "stdout",
     "output_type": "stream",
     "text": [
      "Requirement already satisfied: pywin32 in c:\\users\\rimit\\appdata\\roaming\\python\\python313\\site-packages (311)\n",
      "Note: you may need to restart the kernel to use updated packages.\n"
     ]
    }
   ],
   "source": [
    "pip install --upgrade pywin32 --user"
   ]
  },
  {
   "cell_type": "code",
   "execution_count": 18,
   "id": "749450fb-4812-4141-8f8e-ae4d9a62036d",
   "metadata": {},
   "outputs": [],
   "source": [
    "\n",
    "import re\n",
    "import pandas as pd\n",
    "import openpyxl\n",
    "from openpyxl import load_workbook\n",
    "from openpyxl.utils.dataframe import dataframe_to_rows\n",
    "import shutil\n",
    "from pathlib import Path\n",
    "import os\n",
    "import csv\n",
    "import win32com.client as win32\n",
    "\n",
    "# Define patterns\n",
    "A1 = r'The table below is a sample table1\\n'\n",
    "A2 = r'The table below is a sample table2+\\n'\n",
    "A3 = \"Table-1\"\n",
    "\n",
    "B1 = r'The table below is a sample table2\\n'\n",
    "B2 = r'The End of report+\\n'\n",
    "B3 = \"Table-2\"\n",
    "\n",
    "\n",
    "\n",
    "def my_table(line1, line2, file_path, NAME):\n",
    "    heading_pattern = re.compile(line1)\n",
    "    bottom_line_pattern = re.compile(line2)\n",
    "    with open(file_path, 'r') as file:\n",
    "        content = file.read()\n",
    "    matches = re.finditer(heading_pattern, content)\n",
    "    tables = []\n",
    "    for match in matches:\n",
    "        start = match.end()\n",
    "        start += content[start:].find('\\n')\n",
    "        start += content[start:].find('\\n') + 1\n",
    "        end_match = bottom_line_pattern.search(content, start)\n",
    "        if end_match:\n",
    "            end = end_match.start()\n",
    "            table_content = content[start:end].strip()\n",
    "            tables.append(table_content)\n",
    "\n",
    "    for table in tables:\n",
    "        table_data = [line.split(',') for line in table.split('\\n')]\n",
    "        df4 = pd.DataFrame(table_data[1:], columns=table_data[0])\n",
    "        \n",
    "    #import win32com.client as win32\n",
    "    \n",
    "    file_path = Excel_path\n",
    "    excel = win32.gencache.EnsureDispatch('Excel.Application')\n",
    "    excel.DisplayAlerts = False\n",
    "    \n",
    "    wb = excel.Workbooks.Open(file_path)\n",
    "    new_sheet_name = NAME\n",
    "    sheet_names = [sheet.Name for sheet in wb.Sheets]\n",
    "    \n",
    "    if new_sheet_name in sheet_names:\n",
    "        sheet = wb.Sheets(new_sheet_name)\n",
    "    else:\n",
    "        sheet = wb.Sheets.Add()\n",
    "        sheet.Name = new_sheet_name\n",
    "    for col_num, header in enumerate(df4.columns, start=1):\n",
    "        sheet.Cells(1, col_num).Value = header\n",
    "    for row_num, row in enumerate(df4.itertuples(index=False), start=2):\n",
    "        for col_num, value in enumerate(row, start=1):\n",
    "            sheet.Cells(row_num, col_num).Value = value\n",
    "    wb.Save()\n"
   ]
  },
  {
   "cell_type": "code",
   "execution_count": 19,
   "id": "259c6837-ead9-4c4a-8e31-3e7ad6dfe0ef",
   "metadata": {},
   "outputs": [],
   "source": [
    "# Loop through directory files and populate \"Control Panel\"\n",
    "files = os.listdir(Out_path)\n",
    "Runs = []\n",
    "A = len(files)\n",
    "while A > 0:\n",
    "    Runs.append(A)\n",
    "    A = A - 1\n",
    "Runs.reverse()\n",
    "Out_files = []\n",
    "s = 26\n",
    "i = 1\n",
    "for file in files:\n",
    "    Out_files.append(f\"{Out_path}\\\\{file}\")\n",
    "    excel = win32.gencache.EnsureDispatch('Excel.Application')\n",
    "    excel.DisplayAlerts = False\n",
    "    wb = excel.Workbooks.Open(Excel_path)\n",
    "    sheet = wb.Sheets('Reference')\n",
    "    sheet.Cells(s, 3).Value = i\n",
    "    sheet.Cells(s, 4).Value = file\n",
    "    s += 2\n",
    "    i += 1\n",
    "    # wb.Save()\n",
    "    # wb.Close()"
   ]
  },
  {
   "cell_type": "code",
   "execution_count": 20,
   "id": "fa268958-f616-435d-b59e-0a34cce72673",
   "metadata": {},
   "outputs": [],
   "source": [
    "# Call the functions\n",
    "for i, j in zip(Out_files, Runs):\n",
    "    my_table(A1, A2, i, f\"{A3}_{j}\")\n",
    "    my_table(B1, B2, i, f\"{B3}_{j}\")"
   ]
  },
  {
   "cell_type": "code",
   "execution_count": null,
   "id": "f2374ba5-19d2-4da7-8abb-2b0324eaf238",
   "metadata": {},
   "outputs": [],
   "source": []
  }
 ],
 "metadata": {
  "kernelspec": {
   "display_name": "Python [conda env:base] *",
   "language": "python",
   "name": "conda-base-py"
  },
  "language_info": {
   "codemirror_mode": {
    "name": "ipython",
    "version": 3
   },
   "file_extension": ".py",
   "mimetype": "text/x-python",
   "name": "python",
   "nbconvert_exporter": "python",
   "pygments_lexer": "ipython3",
   "version": "3.13.5"
  }
 },
 "nbformat": 4,
 "nbformat_minor": 5
}
